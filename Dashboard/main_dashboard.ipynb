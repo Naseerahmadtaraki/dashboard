{
 "cells": [
  {
   "cell_type": "code",
   "execution_count": 1,
   "id": "f4303d56-28f2-4874-b3f1-f1c57055c6ff",
   "metadata": {},
   "outputs": [
    {
     "name": "stdout",
     "output_type": "stream",
     "text": [
      "Requirement already satisfied: dash in c:\\users\\nasee\\anaconda3\\lib\\site-packages (2.18.1)\n",
      "Requirement already satisfied: dash-core-components in c:\\users\\nasee\\anaconda3\\lib\\site-packages (2.0.0)\n",
      "Requirement already satisfied: dash-html-components in c:\\users\\nasee\\anaconda3\\lib\\site-packages (2.0.0)\n",
      "Requirement already satisfied: pandas in c:\\users\\nasee\\anaconda3\\lib\\site-packages (2.2.2)\n",
      "Requirement already satisfied: numpy in c:\\users\\nasee\\anaconda3\\lib\\site-packages (1.26.4)\n",
      "Requirement already satisfied: plotly in c:\\users\\nasee\\anaconda3\\lib\\site-packages (5.22.0)\n",
      "Requirement already satisfied: Flask<3.1,>=1.0.4 in c:\\users\\nasee\\anaconda3\\lib\\site-packages (from dash) (3.0.3)\n",
      "Requirement already satisfied: Werkzeug<3.1 in c:\\users\\nasee\\anaconda3\\lib\\site-packages (from dash) (3.0.3)\n",
      "Requirement already satisfied: dash-table==5.0.0 in c:\\users\\nasee\\anaconda3\\lib\\site-packages (from dash) (5.0.0)\n",
      "Requirement already satisfied: importlib-metadata in c:\\users\\nasee\\anaconda3\\lib\\site-packages (from dash) (7.0.1)\n",
      "Requirement already satisfied: typing-extensions>=4.1.1 in c:\\users\\nasee\\anaconda3\\lib\\site-packages (from dash) (4.11.0)\n",
      "Requirement already satisfied: requests in c:\\users\\nasee\\anaconda3\\lib\\site-packages (from dash) (2.32.2)\n",
      "Requirement already satisfied: retrying in c:\\users\\nasee\\anaconda3\\lib\\site-packages (from dash) (1.3.4)\n",
      "Requirement already satisfied: nest-asyncio in c:\\users\\nasee\\anaconda3\\lib\\site-packages (from dash) (1.6.0)\n",
      "Requirement already satisfied: setuptools in c:\\users\\nasee\\anaconda3\\lib\\site-packages (from dash) (69.5.1)\n",
      "Requirement already satisfied: python-dateutil>=2.8.2 in c:\\users\\nasee\\anaconda3\\lib\\site-packages (from pandas) (2.9.0.post0)\n",
      "Requirement already satisfied: pytz>=2020.1 in c:\\users\\nasee\\anaconda3\\lib\\site-packages (from pandas) (2024.1)\n",
      "Requirement already satisfied: tzdata>=2022.7 in c:\\users\\nasee\\anaconda3\\lib\\site-packages (from pandas) (2023.3)\n",
      "Requirement already satisfied: tenacity>=6.2.0 in c:\\users\\nasee\\anaconda3\\lib\\site-packages (from plotly) (8.2.2)\n",
      "Requirement already satisfied: packaging in c:\\users\\nasee\\anaconda3\\lib\\site-packages (from plotly) (23.2)\n",
      "Requirement already satisfied: Jinja2>=3.1.2 in c:\\users\\nasee\\anaconda3\\lib\\site-packages (from Flask<3.1,>=1.0.4->dash) (3.1.4)\n",
      "Requirement already satisfied: itsdangerous>=2.1.2 in c:\\users\\nasee\\anaconda3\\lib\\site-packages (from Flask<3.1,>=1.0.4->dash) (2.2.0)\n",
      "Requirement already satisfied: click>=8.1.3 in c:\\users\\nasee\\anaconda3\\lib\\site-packages (from Flask<3.1,>=1.0.4->dash) (8.1.7)\n",
      "Requirement already satisfied: blinker>=1.6.2 in c:\\users\\nasee\\anaconda3\\lib\\site-packages (from Flask<3.1,>=1.0.4->dash) (1.6.2)\n",
      "Requirement already satisfied: six>=1.5 in c:\\users\\nasee\\anaconda3\\lib\\site-packages (from python-dateutil>=2.8.2->pandas) (1.16.0)\n",
      "Requirement already satisfied: MarkupSafe>=2.1.1 in c:\\users\\nasee\\anaconda3\\lib\\site-packages (from Werkzeug<3.1->dash) (2.1.3)\n",
      "Requirement already satisfied: zipp>=0.5 in c:\\users\\nasee\\anaconda3\\lib\\site-packages (from importlib-metadata->dash) (3.17.0)\n",
      "Requirement already satisfied: charset-normalizer<4,>=2 in c:\\users\\nasee\\anaconda3\\lib\\site-packages (from requests->dash) (2.0.4)\n",
      "Requirement already satisfied: idna<4,>=2.5 in c:\\users\\nasee\\anaconda3\\lib\\site-packages (from requests->dash) (3.7)\n",
      "Requirement already satisfied: urllib3<3,>=1.21.1 in c:\\users\\nasee\\anaconda3\\lib\\site-packages (from requests->dash) (2.2.2)\n",
      "Requirement already satisfied: certifi>=2017.4.17 in c:\\users\\nasee\\anaconda3\\lib\\site-packages (from requests->dash) (2024.6.2)\n",
      "Requirement already satisfied: colorama in c:\\users\\nasee\\anaconda3\\lib\\site-packages (from click>=8.1.3->Flask<3.1,>=1.0.4->dash) (0.4.6)\n",
      "Note: you may need to restart the kernel to use updated packages.\n"
     ]
    }
   ],
   "source": [
    "pip install dash dash-core-components dash-html-components pandas numpy plotly\n"
   ]
  },
  {
   "cell_type": "code",
   "execution_count": 1,
   "id": "3518e14e-6b91-4644-8998-929e467d5c86",
   "metadata": {},
   "outputs": [],
   "source": [
    "import base64\n",
    "import io\n"
   ]
  },
  {
   "cell_type": "code",
   "execution_count": 2,
   "id": "2b59d1c5-3852-4ae1-b9d1-dc7fc59f6a00",
   "metadata": {},
   "outputs": [
    {
     "data": {
      "text/html": [
       "\n",
       "        <iframe\n",
       "            width=\"100%\"\n",
       "            height=\"650\"\n",
       "            src=\"http://127.0.0.1:8090/\"\n",
       "            frameborder=\"0\"\n",
       "            allowfullscreen\n",
       "            \n",
       "        ></iframe>\n",
       "        "
      ],
      "text/plain": [
       "<IPython.lib.display.IFrame at 0x1e8f728f6e0>"
      ]
     },
     "metadata": {},
     "output_type": "display_data"
    }
   ],
   "source": [
    "import dash\n",
    "from dash import dcc, html\n",
    "from dash.dependencies import Input, Output\n",
    "import pandas as pd\n",
    "import numpy as np\n",
    "from sklearn.preprocessing import MinMaxScaler\n",
    "from keras.models import Sequential\n",
    "from keras.layers import Dense, LSTM\n",
    "import plotly.graph_objects as go\n",
    "\n",
    "# Initialize the Dash app\n",
    "app = dash.Dash(__name__)\n",
    "\n",
    "# Define the layout\n",
    "app.layout = html.Div([\n",
    "    html.H1(\"Stock Price Prediction Dashboard\"),\n",
    "    \n",
    "    dcc.Upload(\n",
    "        id='upload-data',\n",
    "        children=html.Button('Upload CSV'),\n",
    "        multiple=False\n",
    "    ),\n",
    "    \n",
    "    dcc.Graph(id='stock-price-graph'),\n",
    "    \n",
    "    html.Div(id='prediction-output')\n",
    "])\n",
    "\n",
    "# Function to preprocess the data and make predictions\n",
    "def preprocess_and_predict(data):\n",
    "    # Scale data\n",
    "    scaler = MinMaxScaler(feature_range=(0, 1))\n",
    "    scaled_data = scaler.fit_transform(data[['Close']])\n",
    "    \n",
    "    # Create sequences for LSTM\n",
    "    sequence_length = 60\n",
    "    train_data_len = int(len(scaled_data) * 0.8)\n",
    "    train_data = scaled_data[:train_data_len]\n",
    "    \n",
    "    def create_sequences(data, sequence_length):\n",
    "        X, y = [], []\n",
    "        for i in range(sequence_length, len(data)):\n",
    "            X.append(data[i-sequence_length:i, 0])\n",
    "            y.append(data[i, 0])\n",
    "        return np.array(X), np.array(y)\n",
    "\n",
    "    X_train, y_train = create_sequences(train_data, sequence_length)\n",
    "    X_train = np.reshape(X_train, (X_train.shape[0], X_train.shape[1], 1))\n",
    "\n",
    "    # Build LSTM model\n",
    "    model = Sequential()\n",
    "    model.add(LSTM(units=50, return_sequences=True, input_shape=(X_train.shape[1], 1)))\n",
    "    model.add(LSTM(units=50, return_sequences=False))\n",
    "    model.add(Dense(units=25))\n",
    "    model.add(Dense(units=1))\n",
    "    model.compile(optimizer='adam', loss='mean_squared_error')\n",
    "\n",
    "    # Train the model\n",
    "    model.fit(X_train, y_train, batch_size=1, epochs=10)\n",
    "\n",
    "    # Make predictions\n",
    "    test_data = scaled_data[train_data_len - sequence_length:]\n",
    "    X_test, _ = create_sequences(test_data, sequence_length)\n",
    "    X_test = np.reshape(X_test, (X_test.shape[0], X_test.shape[1], 1))\n",
    "\n",
    "    predictions = model.predict(X_test)\n",
    "    predictions = scaler.inverse_transform(predictions)\n",
    "    \n",
    "    return predictions, data['Close'].values[train_data_len:]\n",
    "\n",
    "# Callback to update the graph and output based on uploaded data\n",
    "@app.callback(\n",
    "    Output('stock-price-graph', 'figure'),\n",
    "    Output('prediction-output', 'children'),\n",
    "    Input('upload-data', 'contents')\n",
    ")\n",
    "def update_output(contents):\n",
    "    if contents is None:\n",
    "        return go.Figure(), \"Upload a CSV file to see predictions.\"\n",
    "    \n",
    "    # Read uploaded CSV file\n",
    "    content_type, content_string = contents.split(',')\n",
    "    decoded = base64.b64decode(content_string)\n",
    "    df = pd.read_csv(io.StringIO(decoded.decode('utf-8')))\n",
    "    \n",
    "    predictions, actual_prices = preprocess_and_predict(df)\n",
    "    \n",
    "    # Create figure\n",
    "    fig = go.Figure()\n",
    "    fig.add_trace(go.Scatter(x=df['Date'], y=df['Close'], mode='lines', name='Actual Price'))\n",
    "    fig.add_trace(go.Scatter(x=df['Date'].iloc[-len(predictions):], y=predictions.flatten(), mode='lines', name='Predicted Price'))\n",
    "    \n",
    "    return fig, \"Predictions made successfully.\"\n",
    "\n",
    "# Run the app\n",
    "if __name__ == '__main__':\n",
    "    app.run_server(debug=True, port=8090)\n",
    "\n",
    "#  port number http://127.0.0.1:8090/\n"
   ]
  },
  {
   "cell_type": "code",
   "execution_count": null,
   "id": "030497be-c6cd-4d09-94db-fce4d545ef6b",
   "metadata": {},
   "outputs": [],
   "source": []
  },
  {
   "cell_type": "code",
   "execution_count": null,
   "id": "4861c3ad-2bfa-4a0a-8108-b5cc9b8bf8e6",
   "metadata": {},
   "outputs": [],
   "source": []
  },
  {
   "cell_type": "code",
   "execution_count": null,
   "id": "a1a886ec-2226-4cb2-8d88-d004c54a01b8",
   "metadata": {},
   "outputs": [],
   "source": []
  },
  {
   "cell_type": "code",
   "execution_count": null,
   "id": "fe56518f-9a2d-4548-b719-88b138cacd3d",
   "metadata": {},
   "outputs": [],
   "source": []
  },
  {
   "cell_type": "code",
   "execution_count": null,
   "id": "6f5e60ef-2e16-4790-a17a-51ecdc30b104",
   "metadata": {},
   "outputs": [],
   "source": []
  }
 ],
 "metadata": {
  "kernelspec": {
   "display_name": "Python 3 (ipykernel)",
   "language": "python",
   "name": "python3"
  },
  "language_info": {
   "codemirror_mode": {
    "name": "ipython",
    "version": 3
   },
   "file_extension": ".py",
   "mimetype": "text/x-python",
   "name": "python",
   "nbconvert_exporter": "python",
   "pygments_lexer": "ipython3",
   "version": "3.12.4"
  }
 },
 "nbformat": 4,
 "nbformat_minor": 5
}
